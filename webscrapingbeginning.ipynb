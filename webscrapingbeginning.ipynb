{
 "cells": [
  {
   "cell_type": "code",
   "execution_count": 1,
   "id": "a4131895",
   "metadata": {},
   "outputs": [],
   "source": [
    "import requests"
   ]
  },
  {
   "cell_type": "code",
   "execution_count": 2,
   "id": "b75ac8f1",
   "metadata": {},
   "outputs": [],
   "source": [
    "covid_stats = 'https://epidemic-stats.com/'"
   ]
  },
  {
   "cell_type": "code",
   "execution_count": 3,
   "id": "902aa205",
   "metadata": {},
   "outputs": [],
   "source": [
    "response = requests.get(covid_stats)"
   ]
  },
  {
   "cell_type": "code",
   "execution_count": 4,
   "id": "bd85aede",
   "metadata": {},
   "outputs": [
    {
     "data": {
      "text/plain": [
       "200"
      ]
     },
     "execution_count": 4,
     "metadata": {},
     "output_type": "execute_result"
    }
   ],
   "source": [
    "response.status_code"
   ]
  },
  {
   "cell_type": "code",
   "execution_count": 5,
   "id": "52e8e89d",
   "metadata": {},
   "outputs": [
    {
     "data": {
      "text/plain": [
       "1316352"
      ]
     },
     "execution_count": 5,
     "metadata": {},
     "output_type": "execute_result"
    }
   ],
   "source": [
    "len(response.text)"
   ]
  },
  {
   "cell_type": "code",
   "execution_count": 6,
   "id": "92e1c9eb",
   "metadata": {},
   "outputs": [],
   "source": [
    "page_contents = response.text"
   ]
  },
  {
   "cell_type": "code",
   "execution_count": 7,
   "id": "02691091",
   "metadata": {},
   "outputs": [
    {
     "data": {
      "text/plain": [
       "'\\n<!DOCTYPE html>\\n<html lang=\"en\">\\n<head>\\n    <meta charset=\"UTF-8\">\\n    <meta name=\"viewport\" content=\"width=device-width, initial-scale=1.0\">\\n    <meta name=\"keywords\"\\n          content=\"epidemic, pandemic, coronavirus, COVID-19, covid, 19, 2019-nCoV, SARS-nCOV2, news, live, realtime, stats, statistics, charts, diagrams, countires\">\\n\\n    \\n    <meta name=\"description\"\\n          content=\"Monitoring of epidemic. Real-time coronavirus statistics. Live COVID-19 stats with charts for many countries.\"'"
      ]
     },
     "execution_count": 7,
     "metadata": {},
     "output_type": "execute_result"
    }
   ],
   "source": [
    "page_contents[:500]"
   ]
  },
  {
   "cell_type": "code",
   "execution_count": 8,
   "id": "606a774b",
   "metadata": {},
   "outputs": [],
   "source": [
    "from bs4 import BeautifulSoup"
   ]
  },
  {
   "cell_type": "code",
   "execution_count": 9,
   "id": "51bd00ca",
   "metadata": {},
   "outputs": [],
   "source": [
    "doc = BeautifulSoup(page_contents,'html.parser')"
   ]
  },
  {
   "cell_type": "code",
   "execution_count": 10,
   "id": "3060f260",
   "metadata": {},
   "outputs": [
    {
     "data": {
      "text/plain": [
       "210"
      ]
     },
     "execution_count": 10,
     "metadata": {},
     "output_type": "execute_result"
    }
   ],
   "source": [
    "country_selection = 'text-primary'\n",
    "countries_a_tag = doc.find_all(\"a\",{'class':country_selection})\n",
    "len(countries_a_tag)     "
   ]
  },
  {
   "cell_type": "code",
   "execution_count": 11,
   "id": "d1911302",
   "metadata": {},
   "outputs": [
    {
     "data": {
      "text/plain": [
       "[<a class=\"text-primary\" href=\"/coronavirus/usa\">\n",
       " <img src=\"https://www.countryflags.io/US/flat/16.png\"/>\n",
       "                     USA</a>,\n",
       " <a class=\"text-primary\" href=\"/coronavirus/india\">\n",
       " <img src=\"https://www.countryflags.io/IN/flat/16.png\"/>\n",
       "                     India</a>,\n",
       " <a class=\"text-primary\" href=\"/coronavirus/brazil\">\n",
       " <img src=\"https://www.countryflags.io/BR/flat/16.png\"/>\n",
       "                     Brazil</a>,\n",
       " <a class=\"text-primary\" href=\"/coronavirus/russia\">\n",
       " <img src=\"https://www.countryflags.io/RU/flat/16.png\"/>\n",
       "                     Russia</a>,\n",
       " <a class=\"text-primary\" href=\"/coronavirus/france\">\n",
       " <img src=\"https://www.countryflags.io/FR/flat/16.png\"/>\n",
       "                     France</a>]"
      ]
     },
     "execution_count": 11,
     "metadata": {},
     "output_type": "execute_result"
    }
   ],
   "source": [
    "countries_a_tag[:5]"
   ]
  },
  {
   "cell_type": "code",
   "execution_count": 12,
   "id": "a3b192ee",
   "metadata": {},
   "outputs": [
    {
     "data": {
      "text/plain": [
       "[<span class=\"infected-badges\">37365716</span>,\n",
       " <span class=\"infected-badges\">32190846</span>,\n",
       " <span class=\"infected-badges\">20319000</span>,\n",
       " <span class=\"infected-badges\">6579212</span>,\n",
       " <span class=\"infected-badges\">6425436</span>]"
      ]
     },
     "execution_count": 12,
     "metadata": {},
     "output_type": "execute_result"
    }
   ],
   "source": [
    "infected_selection = 'infected-badges'\n",
    "\n",
    "infected_span_tag = doc.find_all('span',{'class':infected_selection})\n",
    "len(infected_span_tag)\n",
    "\n",
    "infected_span_tag[:5]"
   ]
  },
  {
   "cell_type": "code",
   "execution_count": 13,
   "id": "f0912e2e",
   "metadata": {},
   "outputs": [
    {
     "data": {
      "text/plain": [
       "'USA'"
      ]
     },
     "execution_count": 13,
     "metadata": {},
     "output_type": "execute_result"
    }
   ],
   "source": [
    "countries_a_tag[0].text\n",
    "\n",
    "countries_a_tag[0].text.strip()"
   ]
  },
  {
   "cell_type": "code",
   "execution_count": 14,
   "id": "f0a3b910",
   "metadata": {},
   "outputs": [
    {
     "data": {
      "text/plain": [
       "210"
      ]
     },
     "execution_count": 14,
     "metadata": {},
     "output_type": "execute_result"
    }
   ],
   "source": [
    "deaths_selection = 'deaths-badges'\n",
    "death_span_tag = doc.find_all('span',{'class':deaths_selection})\n",
    "len(death_span_tag)"
   ]
  },
  {
   "cell_type": "code",
   "execution_count": 15,
   "id": "48a476e4",
   "metadata": {},
   "outputs": [
    {
     "data": {
      "text/plain": [
       "637170"
      ]
     },
     "execution_count": 15,
     "metadata": {},
     "output_type": "execute_result"
    }
   ],
   "source": [
    "death_span_tag[0].text\n",
    "\n",
    "int(death_span_tag[0].text)"
   ]
  },
  {
   "cell_type": "code",
   "execution_count": 16,
   "id": "c339a2f7",
   "metadata": {},
   "outputs": [
    {
     "data": {
      "text/plain": [
       "210"
      ]
     },
     "execution_count": 16,
     "metadata": {},
     "output_type": "execute_result"
    }
   ],
   "source": [
    "recovered_selection = 'recovered-badges'\n",
    "recovered_span_tag = doc.find_all('span',{'class': recovered_selection})\n",
    "len(recovered_span_tag)"
   ]
  },
  {
   "cell_type": "code",
   "execution_count": 17,
   "id": "85638777",
   "metadata": {},
   "outputs": [
    {
     "data": {
      "text/plain": [
       "'30133691'"
      ]
     },
     "execution_count": 17,
     "metadata": {},
     "output_type": "execute_result"
    }
   ],
   "source": [
    "recovered_span_tag[0].text.strip()"
   ]
  },
  {
   "cell_type": "code",
   "execution_count": 18,
   "id": "b83c0922",
   "metadata": {},
   "outputs": [
    {
     "data": {
      "text/plain": [
       "'1.7%'"
      ]
     },
     "execution_count": 18,
     "metadata": {},
     "output_type": "execute_result"
    }
   ],
   "source": [
    "death_percent_selection = 'deaths-badges-outline'\n",
    "death_percent_span_tag = doc.find_all('span',{'class':death_percent_selection})\n",
    "len(death_percent_span_tag)\n",
    "\n",
    "death_percent_span_tag[0].text"
   ]
  },
  {
   "cell_type": "code",
   "execution_count": 19,
   "id": "7d6b6251",
   "metadata": {},
   "outputs": [
    {
     "data": {
      "text/plain": [
       "1.7"
      ]
     },
     "execution_count": 19,
     "metadata": {},
     "output_type": "execute_result"
    }
   ],
   "source": [
    "float(death_percent_span_tag[0].text.strip('%'))"
   ]
  },
  {
   "cell_type": "code",
   "execution_count": 20,
   "id": "0bd723eb",
   "metadata": {},
   "outputs": [
    {
     "data": {
      "text/plain": [
       "80.6"
      ]
     },
     "execution_count": 20,
     "metadata": {},
     "output_type": "execute_result"
    }
   ],
   "source": [
    "recovered_percent_selection = 'recovered-badges-outline'\n",
    "recovered_percent_span_tag = doc.find_all('span',{'class':recovered_percent_selection})\n",
    "len(recovered_percent_span_tag)\n",
    "\n",
    "\n",
    "float(recovered_percent_span_tag[0].text.strip('%'))"
   ]
  },
  {
   "cell_type": "code",
   "execution_count": 21,
   "id": "c2863a31",
   "metadata": {},
   "outputs": [
    {
     "name": "stdout",
     "output_type": "stream",
     "text": [
      "['USA', 'India', 'Brazil', 'Russia', 'France', 'UK', 'Turkey', 'Argentina', 'Colombia', 'Spain']\n"
     ]
    }
   ],
   "source": [
    "country_name = []\n",
    "\n",
    "for country in countries_a_tag:\n",
    "  country_name.append(country.text.strip())\n",
    "\n",
    "print(country_name[:10])"
   ]
  },
  {
   "cell_type": "code",
   "execution_count": 22,
   "id": "fa49f5d5",
   "metadata": {},
   "outputs": [
    {
     "name": "stdout",
     "output_type": "stream",
     "text": [
      "[37365716, 32190846, 20319000, 6579212, 6425436, 6241011, 6039857, 5074725, 4860622, 4693540]\n"
     ]
    }
   ],
   "source": [
    "infected = []\n",
    "\n",
    "for inf in infected_span_tag:\n",
    "  infected.append(int(inf.text))\n",
    "print(infected[:10])"
   ]
  },
  {
   "cell_type": "code",
   "execution_count": 23,
   "id": "4f7e633a",
   "metadata": {},
   "outputs": [
    {
     "name": "stdout",
     "output_type": "stream",
     "text": [
      "[637170, 431240, 567914, 169683, 112561, 130894, 52860, 108815, 123221, 82470]\n"
     ]
    }
   ],
   "source": [
    "deaths = []\n",
    "for death in death_span_tag:\n",
    "  deaths.append(int(death.text))\n",
    "print(deaths[:10])"
   ]
  },
  {
   "cell_type": "code",
   "execution_count": 24,
   "id": "f58f2284",
   "metadata": {},
   "outputs": [
    {
     "name": "stdout",
     "output_type": "stream",
     "text": [
      "[30133691, 31365316, 19173917, 5867890, 5866208, 4796774, 5575214, 4725426, 4681231, 3888717]\n"
     ]
    }
   ],
   "source": [
    "recovered = []\n",
    "for recover in recovered_span_tag:\n",
    "  recovered.append(int(recover.text))\n",
    "print(recovered[:10])"
   ]
  },
  {
   "cell_type": "code",
   "execution_count": 25,
   "id": "0bf8acbf",
   "metadata": {},
   "outputs": [
    {
     "name": "stdout",
     "output_type": "stream",
     "text": [
      "[1.7, 1.3, 2.8, 2.6, 1.8, 2.1, 0.9, 2.1, 2.5, 1.8]\n"
     ]
    }
   ],
   "source": [
    "death_percent = []\n",
    "for dp in death_percent_span_tag:\n",
    "  death_percent.append(float(dp.text.strip('%')))\n",
    "print(death_percent[:10])"
   ]
  },
  {
   "cell_type": "code",
   "execution_count": 26,
   "id": "ed0ef56b",
   "metadata": {},
   "outputs": [
    {
     "name": "stdout",
     "output_type": "stream",
     "text": [
      "[80.6, 97.4, 94.4, 89.2, 91.3, 76.9, 92.3, 93.1, 96.3, 82.9]\n"
     ]
    }
   ],
   "source": [
    "recovered_percent=[]\n",
    "for rp in recovered_percent_span_tag:\n",
    "  recovered_percent.append(float(rp.text.strip('%')))\n",
    "print(recovered_percent[:10])"
   ]
  },
  {
   "cell_type": "code",
   "execution_count": 27,
   "id": "98eb7d77",
   "metadata": {},
   "outputs": [
    {
     "data": {
      "text/html": [
       "<div>\n",
       "<style scoped>\n",
       "    .dataframe tbody tr th:only-of-type {\n",
       "        vertical-align: middle;\n",
       "    }\n",
       "\n",
       "    .dataframe tbody tr th {\n",
       "        vertical-align: top;\n",
       "    }\n",
       "\n",
       "    .dataframe thead th {\n",
       "        text-align: right;\n",
       "    }\n",
       "</style>\n",
       "<table border=\"1\" class=\"dataframe\">\n",
       "  <thead>\n",
       "    <tr style=\"text-align: right;\">\n",
       "      <th></th>\n",
       "      <th>country</th>\n",
       "      <th>infected</th>\n",
       "      <th>deaths</th>\n",
       "      <th>recovered</th>\n",
       "      <th>death_percent</th>\n",
       "      <th>recovered_percent</th>\n",
       "    </tr>\n",
       "  </thead>\n",
       "  <tbody>\n",
       "    <tr>\n",
       "      <th>0</th>\n",
       "      <td>USA</td>\n",
       "      <td>37365716</td>\n",
       "      <td>637170</td>\n",
       "      <td>30133691</td>\n",
       "      <td>1.7</td>\n",
       "      <td>80.6</td>\n",
       "    </tr>\n",
       "    <tr>\n",
       "      <th>1</th>\n",
       "      <td>India</td>\n",
       "      <td>32190846</td>\n",
       "      <td>431240</td>\n",
       "      <td>31365316</td>\n",
       "      <td>1.3</td>\n",
       "      <td>97.4</td>\n",
       "    </tr>\n",
       "    <tr>\n",
       "      <th>2</th>\n",
       "      <td>Brazil</td>\n",
       "      <td>20319000</td>\n",
       "      <td>567914</td>\n",
       "      <td>19173917</td>\n",
       "      <td>2.8</td>\n",
       "      <td>94.4</td>\n",
       "    </tr>\n",
       "    <tr>\n",
       "      <th>3</th>\n",
       "      <td>Russia</td>\n",
       "      <td>6579212</td>\n",
       "      <td>169683</td>\n",
       "      <td>5867890</td>\n",
       "      <td>2.6</td>\n",
       "      <td>89.2</td>\n",
       "    </tr>\n",
       "    <tr>\n",
       "      <th>4</th>\n",
       "      <td>France</td>\n",
       "      <td>6425436</td>\n",
       "      <td>112561</td>\n",
       "      <td>5866208</td>\n",
       "      <td>1.8</td>\n",
       "      <td>91.3</td>\n",
       "    </tr>\n",
       "  </tbody>\n",
       "</table>\n",
       "</div>"
      ],
      "text/plain": [
       "  country  infected  deaths  recovered  death_percent  recovered_percent\n",
       "0     USA  37365716  637170   30133691            1.7               80.6\n",
       "1   India  32190846  431240   31365316            1.3               97.4\n",
       "2  Brazil  20319000  567914   19173917            2.8               94.4\n",
       "3  Russia   6579212  169683    5867890            2.6               89.2\n",
       "4  France   6425436  112561    5866208            1.8               91.3"
      ]
     },
     "execution_count": 27,
     "metadata": {},
     "output_type": "execute_result"
    }
   ],
   "source": [
    "import pandas as pd \n",
    "\n",
    "covid_dict ={\n",
    "    'country':country_name,\n",
    "    'infected':infected,\n",
    "    'deaths':deaths,\n",
    "    'recovered':recovered,\n",
    "    'death_percent':death_percent,\n",
    "    'recovered_percent':recovered_percent\n",
    "}\n",
    "\n",
    "covid_data = pd.DataFrame(covid_dict)\n",
    "covid_data.head()"
   ]
  },
  {
   "cell_type": "code",
   "execution_count": 28,
   "id": "e3b054aa",
   "metadata": {},
   "outputs": [],
   "source": [
    "covid_data.to_csv('covidData.csv',index=None)"
   ]
  },
  {
   "cell_type": "code",
   "execution_count": null,
   "id": "aefeef0d",
   "metadata": {},
   "outputs": [],
   "source": []
  }
 ],
 "metadata": {
  "kernelspec": {
   "display_name": "Python 3 (ipykernel)",
   "language": "python",
   "name": "python3"
  },
  "language_info": {
   "codemirror_mode": {
    "name": "ipython",
    "version": 3
   },
   "file_extension": ".py",
   "mimetype": "text/x-python",
   "name": "python",
   "nbconvert_exporter": "python",
   "pygments_lexer": "ipython3",
   "version": "3.9.2"
  }
 },
 "nbformat": 4,
 "nbformat_minor": 5
}
